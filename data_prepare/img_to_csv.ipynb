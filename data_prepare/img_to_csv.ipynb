{
 "cells": [
  {
   "cell_type": "code",
   "execution_count": 1,
   "metadata": {},
   "outputs": [],
   "source": [
    "import os\n",
    "import re\n",
    "import pandas as pd"
   ]
  },
  {
   "cell_type": "code",
   "execution_count": 2,
   "metadata": {},
   "outputs": [],
   "source": [
    "enoe_path = '/home/caetano/enoe'"
   ]
  },
  {
   "cell_type": "code",
   "execution_count": 3,
   "metadata": {},
   "outputs": [],
   "source": [
    "data = list()\n",
    "\n",
    "for year in ['2016','2018','2019','2020','2021','2022']:\n",
    "    fnames = os.listdir(os.path.join(enoe_path,year))\n",
    "    for fname in fnames:\n",
    "        mtc = re.match('(\\d\\d\\d\\d)(\\d\\d)(\\d\\d)_(\\d\\d)(\\d\\d)(\\d\\d)-(\\w*)', fname)\n",
    "        if mtc:\n",
    "            place = mtc.groups()[6]\n",
    "        else:\n",
    "            mtc = re.match('(\\d\\d\\d\\d)(\\d\\d)(\\d\\d)_(\\d\\d)(\\d\\d)(\\d\\d)', fname)\n",
    "            place = ''\n",
    "        yyyy  = mtc.groups()[0]\n",
    "        mm    = mtc.groups()[1]\n",
    "        dd    = mtc.groups()[2]\n",
    "        hour  = mtc.groups()[3]\n",
    "        mins  = mtc.groups()[4]\n",
    "        secs  = mtc.groups()[5]\n",
    "        dtime = f'{yyyy}-{mm}-{dd} {hour}:{mins}:{secs}'\n",
    "        data.append([dtime, place, os.path.join(year,fname)])"
   ]
  },
  {
   "cell_type": "code",
   "execution_count": 4,
   "metadata": {},
   "outputs": [],
   "source": [
    "columns = ['datetime', 'place', 'path']\n",
    "df = pd.DataFrame(data, columns=columns)\n",
    "df['datetime'] = pd.to_datetime(df['datetime'])\n",
    "df = df.sort_values(by='datetime', ascending=True, ignore_index=True)"
   ]
  },
  {
   "cell_type": "code",
   "execution_count": 5,
   "metadata": {},
   "outputs": [
    {
     "name": "stdout",
     "output_type": "stream",
     "text": [
      "             datetime place                      path\n",
      "0 2016-09-17 13:37:03        2016/20160917_133703.jpg\n",
      "1 2016-09-17 13:47:57        2016/20160917_134757.jpg\n",
      "2 2016-09-17 13:55:35        2016/20160917_135535.jpg\n",
      "3 2016-09-17 14:03:28        2016/20160917_140328.jpg\n",
      "4 2016-09-17 14:11:09        2016/20160917_141109.jpg\n",
      "                  datetime  place                            path\n",
      "399737 2022-03-08 11:00:43  SESC2  2022/20220308_110043-SESC2.jpg\n",
      "399738 2022-03-08 11:05:59  SHOP2  2022/20220308_110559-SHOP2.jpg\n",
      "399739 2022-03-08 11:06:44  SESC2  2022/20220308_110644-SESC2.jpg\n",
      "399740 2022-03-08 11:11:52  SHOP2  2022/20220308_111152-SHOP2.jpg\n",
      "399741 2022-03-08 11:12:41  SESC2  2022/20220308_111241-SESC2.jpg\n"
     ]
    }
   ],
   "source": [
    "print(df.head())\n",
    "print(df.tail())"
   ]
  },
  {
   "cell_type": "code",
   "execution_count": 6,
   "metadata": {},
   "outputs": [
    {
     "name": "stdout",
     "output_type": "stream",
     "text": [
      "<PeriodArray>\n",
      "['2016-09', '2018-01', '2018-02', '2018-03', '2018-04', '2018-05', '2018-06',\n",
      " '2018-07', '2018-08', '2018-09', '2018-10', '2018-11', '2018-12', '2019-01',\n",
      " '2019-02', '2019-03', '2019-04', '2019-05', '2019-06', '2019-07', '2019-08',\n",
      " '2019-09', '2019-10', '2019-11', '2019-12', '2020-01', '2020-02', '2020-03',\n",
      " '2020-04', '2020-05', '2020-06', '2020-09', '2020-10', '2020-11', '2020-12',\n",
      " '2021-01', '2021-02', '2021-03', '2021-04', '2021-05', '2021-06', '2021-07',\n",
      " '2021-08', '2021-09', '2021-10', '2021-11', '2021-12', '2022-01', '2022-02',\n",
      " '2022-03']\n",
      "Length: 50, dtype: period[M]\n"
     ]
    }
   ],
   "source": [
    "df['periods'] = pd.DatetimeIndex(df['datetime']).to_period('M')\n",
    "print(df['periods'].unique())"
   ]
  },
  {
   "cell_type": "code",
   "execution_count": 7,
   "metadata": {},
   "outputs": [
    {
     "name": "stdout",
     "output_type": "stream",
     "text": [
      "                  datetime  place                            path  periods\n",
      "353350 2021-12-01 00:00:57  SHOP2  2021/20211201_000057-SHOP2.jpg  2021-12\n",
      "353351 2021-12-01 00:00:59  SESC2  2021/20211201_000059-SESC2.jpg  2021-12\n",
      "353352 2021-12-01 00:07:27  SESC2  2021/20211201_000727-SESC2.jpg  2021-12\n",
      "353353 2021-12-01 00:07:58  SHOP2  2021/20211201_000758-SHOP2.jpg  2021-12\n",
      "353354 2021-12-01 00:13:38  SESC2  2021/20211201_001338-SESC2.jpg  2021-12\n",
      "...                    ...    ...                             ...      ...\n",
      "368106 2021-12-31 23:46:37  SESC2  2021/20211231_234637-SESC2.jpg  2021-12\n",
      "368107 2021-12-31 23:50:24  SHOP2  2021/20211231_235024-SHOP2.jpg  2021-12\n",
      "368108 2021-12-31 23:52:49  SESC2  2021/20211231_235249-SESC2.jpg  2021-12\n",
      "368109 2021-12-31 23:57:13  SHOP2  2021/20211231_235713-SHOP2.jpg  2021-12\n",
      "368110 2021-12-31 23:59:00  SESC2  2021/20211231_235900-SESC2.jpg  2021-12\n",
      "\n",
      "[14761 rows x 4 columns]\n"
     ]
    }
   ],
   "source": [
    "print(df[df['periods']=='2021-12'])"
   ]
  },
  {
   "cell_type": "code",
   "execution_count": 8,
   "metadata": {},
   "outputs": [],
   "source": [
    "df[['datetime','place','path']].to_csv('flood_images.csv')"
   ]
  },
  {
   "cell_type": "code",
   "execution_count": null,
   "metadata": {},
   "outputs": [],
   "source": []
  }
 ],
 "metadata": {
  "kernelspec": {
   "display_name": "venv",
   "language": "python",
   "name": "venv"
  },
  "language_info": {
   "codemirror_mode": {
    "name": "ipython",
    "version": 3
   },
   "file_extension": ".py",
   "mimetype": "text/x-python",
   "name": "python",
   "nbconvert_exporter": "python",
   "pygments_lexer": "ipython3",
   "version": "3.8.10"
  }
 },
 "nbformat": 4,
 "nbformat_minor": 4
}
