{
 "cells": [
  {
   "cell_type": "code",
   "execution_count": 1,
   "metadata": {
    "id": "aG6n2Tz69kH5"
   },
   "outputs": [],
   "source": [
    "import pandas as pd\n",
    "import numpy as np\n",
    "\n",
    "csv_path  = '../resources/flood_images_annot.csv'"
   ]
  },
  {
   "cell_type": "code",
   "execution_count": 2,
   "metadata": {
    "id": "KshyOgJB9kH_"
   },
   "outputs": [],
   "source": [
    "df = pd.read_csv(csv_path, parse_dates=['datetime'], index_col=0)\n",
    "df['level'] = pd.to_numeric(df['level'])\n",
    "df[df['level']==5] = np.nan"
   ]
  },
  {
   "cell_type": "code",
   "execution_count": 3,
   "metadata": {
    "id": "wpWeM4Hi9kIA",
    "outputId": "e52fa44f-e884-43b7-b1ea-6ac51ec145dc"
   },
   "outputs": [
    {
     "name": "stdout",
     "output_type": "stream",
     "text": [
      "1.0    106296\n",
      "2.0      1196\n",
      "3.0       308\n",
      "4.0        67\n",
      "Name: level, dtype: int64\n",
      "1.0    0.985436\n",
      "2.0    0.011088\n",
      "3.0    0.002855\n",
      "4.0    0.000621\n",
      "Name: level, dtype: float64\n"
     ]
    }
   ],
   "source": [
    "df_clean = df[df['level']!=0]\n",
    "mask = df_clean['place'].isna()\n",
    "df_clean.loc[mask, 'place'] = 'unknown'\n",
    "\n",
    "print(df_clean['level'].value_counts(normalize=False))\n",
    "print(df_clean['level'].value_counts(normalize=True))"
   ]
  },
  {
   "cell_type": "code",
   "execution_count": 4,
   "metadata": {
    "id": "bAUU5e559kIB",
    "outputId": "524e2818-2328-4f96-931a-47cacebde734"
   },
   "outputs": [
    {
     "data": {
      "text/plain": [
       "<AxesSubplot:xlabel='level', ylabel='count'>"
      ]
     },
     "execution_count": 4,
     "metadata": {},
     "output_type": "execute_result"
    },
    {
     "data": {
      "image/png": "[encoded data removed]",
      "text/plain": [
       "<Figure size 432x288 with 2 Axes>"
      ]
     },
     "metadata": {
      "needs_background": "light"
     },
     "output_type": "display_data"
    }
   ],
   "source": [
    "import seaborn as sns\n",
    "import matplotlib.pyplot as plt\n",
    "\n",
    "fig, axs = plt.subplots(2)\n",
    "sns.countplot(ax=axs[0], x='level', data=df_clean)\n",
    "sns.countplot(ax=axs[1], x='level', data=df_clean[df_clean['level']!=1])"
   ]
  },
  {
   "cell_type": "code",
   "execution_count": 5,
   "metadata": {
    "id": "nYK1Zqn89kIC",
    "outputId": "d02f8ac8-62bb-46c8-c392-b0bc499810e8"
   },
   "outputs": [
    {
     "name": "stdout",
     "output_type": "stream",
     "text": [
      "1.0    0.988396\n",
      "2.0    0.007799\n",
      "3.0    0.002828\n",
      "4.0    0.000977\n",
      "Name: level, dtype: float64\n"
     ]
    }
   ],
   "source": [
    "df_shop = df_clean[df_clean['place'].str.contains('SHOP')]\n",
    "\n",
    "print(df_shop['level'].value_counts(normalize=True))"
   ]
  }
 ],
 "metadata": {
  "colab": {
   "name": "analyse_annots.ipynb",
   "provenance": []
  },
  "kernelspec": {
   "display_name": "myenv",
   "language": "python",
   "name": "myenv"
  },
  "language_info": {
   "codemirror_mode": {
    "name": "ipython",
    "version": 3
   },
   "file_extension": ".py",
   "mimetype": "text/x-python",
   "name": "python",
   "nbconvert_exporter": "python",
   "pygments_lexer": "ipython3",
   "version": "3.8.10"
  }
 },
 "nbformat": 4,
 "nbformat_minor": 1
}
